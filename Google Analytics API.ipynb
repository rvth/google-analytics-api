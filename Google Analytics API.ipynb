{
 "cells": [
  {
   "cell_type": "code",
   "execution_count": null,
   "id": "cab540e2",
   "metadata": {},
   "outputs": [],
   "source": [
    "!pip install --upgrade google-api-python-client\n",
    "!pip3 install --upgrade oauth2client"
   ]
  },
  {
   "cell_type": "code",
   "execution_count": null,
   "id": "530e984c",
   "metadata": {},
   "outputs": [],
   "source": [
    "from apiclient.discovery import build\n",
    "from oauth2client.service_account import ServiceAccountCredentials\n",
    "!pip install connect\n",
    "!pip install functions\n",
    "import connect"
   ]
  },
  {
   "cell_type": "code",
   "execution_count": 3,
   "id": "f59bfec3",
   "metadata": {},
   "outputs": [],
   "source": [
    "SCOPES = ['https://www.googleapis.com/auth/analytics.readonly']\n",
    "KEY_FILE_LOCATION = 'client_secrets.json'\n",
    "VIEW_ID = 'XXXXXXXX' #add your view ID"
   ]
  },
  {
   "cell_type": "code",
   "execution_count": 4,
   "id": "4e4f7ccc",
   "metadata": {},
   "outputs": [],
   "source": [
    "credentials = ServiceAccountCredentials.from_json_keyfile_name(KEY_FILE_LOCATION, SCOPES)\n",
    "service = build('analyticsreporting', 'v4', credentials=credentials)"
   ]
  },
  {
   "cell_type": "code",
   "execution_count": 54,
   "id": "dcd15796",
   "metadata": {},
   "outputs": [],
   "source": [
    "response = service.reports().batchGet(\n",
    "    body={\n",
    "        'reportRequests': [\n",
    "        {\n",
    "          'viewId': VIEW_ID,\n",
    "          'dateRanges': [{'startDate': '30daysAgo', 'endDate': 'today'}],\n",
    "          'metrics': [{'expression': 'ga:sessions'}],\n",
    "          'dimensions': [{'name': 'ga:medium'}]\n",
    "        }]\n",
    "      }\n",
    "  ).execute()"
   ]
  },
  {
   "cell_type": "code",
   "execution_count": 55,
   "id": "c4b50e5e",
   "metadata": {},
   "outputs": [],
   "source": [
    "dim = []\n",
    "metric = []\n",
    "  \n",
    "for report in response.get('reports', []):\n",
    "  \n",
    "    columnHeader = report.get('columnHeader', {})\n",
    "    dimensionHeaders = columnHeader.get('dimensions', [])\n",
    "    metricHeaders = columnHeader.get('metricHeader', {}).get('metricHeaderEntries', [])\n",
    "    rows = report.get('data', {}).get('rows', [])\n",
    "  \n",
    "    for row in rows:\n",
    "  \n",
    "        dimensions = row.get('dimensions', [])\n",
    "        dateRangeValues = row.get('metrics', [])\n",
    "  \n",
    "        for header, dimension in zip(dimensionHeaders, dimensions):\n",
    "            dim.append(dimension)\n",
    "  \n",
    "        for i, values in enumerate(dateRangeValues):\n",
    "            for metricHeader, value in zip(metricHeaders, values.get('values')):\n",
    "                metric.append(int(value))"
   ]
  },
  {
   "cell_type": "code",
   "execution_count": 56,
   "id": "306b4a71",
   "metadata": {},
   "outputs": [],
   "source": [
    "import pandas as pd"
   ]
  },
  {
   "cell_type": "code",
   "execution_count": null,
   "id": "9791b61a",
   "metadata": {},
   "outputs": [],
   "source": [
    "df = pd.DataFrame() \n",
    "df[\"Sessions\"]= metric\n",
    "df[\"Medium\"]= dim\n",
    "df= df[[\"Medium\",\"Sessions\"]]\n",
    "\n",
    "print(df)"
   ]
  },
  {
   "cell_type": "code",
   "execution_count": null,
   "id": "cb38c9cc",
   "metadata": {},
   "outputs": [],
   "source": [
    "df.head()"
   ]
  },
  {
   "cell_type": "code",
   "execution_count": null,
   "id": "5a71fa94",
   "metadata": {},
   "outputs": [],
   "source": []
  },
  {
   "cell_type": "markdown",
   "id": "f5c97720",
   "metadata": {},
   "source": [
    "## Filtering Metrics"
   ]
  },
  {
   "cell_type": "code",
   "execution_count": 50,
   "id": "c410f04a",
   "metadata": {},
   "outputs": [],
   "source": [
    "\n",
    "response = service.reports().batchGet(\n",
    "    body={\n",
    "        'reportRequests': [\n",
    "        {\n",
    "          'viewId': VIEW_ID,\n",
    "          'dateRanges': [{'startDate': '30daysAgo', 'endDate': 'today'}],\n",
    "          'metrics': [{'expression': 'ga:pageviews'}],\n",
    "          'dimensions': [{'name': 'ga:pagePath'}],\n",
    "          \n",
    "\n",
    "          \"metricFilterClauses\": [{\n",
    "              \"filters\": [{\n",
    "                  \"metricName\": \"ga:pageviews\",\n",
    "                  \"operator\": \"GREATER_THAN\",\n",
    "                  \"comparisonValue\": \"2\"\n",
    "          }]\n",
    "      }]\n",
    "  }]\n",
    "}\n",
    ").execute()"
   ]
  },
  {
   "cell_type": "markdown",
   "id": "a4cf13fe",
   "metadata": {},
   "source": [
    "## Filtering Dimensions"
   ]
  },
  {
   "cell_type": "code",
   "execution_count": 36,
   "id": "aeb26f57",
   "metadata": {},
   "outputs": [],
   "source": [
    "response = service.reports().batchGet(\n",
    "    body={\n",
    "        'reportRequests': [\n",
    "        {\n",
    "          'viewId': VIEW_ID,\n",
    "          'dateRanges': [{'startDate': '30daysAgo', 'endDate': 'today'}],\n",
    "          'metrics': [{'expression': 'ga:pageviews'}],\n",
    "          \"dimensions\": [{\"name\": \"ga:browser\"}, {\"name\": \"ga:country\"}],\n",
    "          \"dimensionFilterClauses\": [\n",
    "        {\n",
    "          \"filters\": [\n",
    "            {\n",
    "              \"dimensionName\": \"ga:browser\",\n",
    "              \"operator\": \"EXACT\",\n",
    "              \"expressions\": [\"Chrome\"]\n",
    "            }\n",
    "          ]\n",
    "        }\n",
    "      ]\n",
    "    }\n",
    "  ]\n",
    "}\n",
    ").execute()"
   ]
  },
  {
   "cell_type": "markdown",
   "id": "b523423e",
   "metadata": {},
   "source": [
    "## Expressions"
   ]
  },
  {
   "cell_type": "code",
   "execution_count": 39,
   "id": "40be2ee5",
   "metadata": {},
   "outputs": [],
   "source": [
    "response = service.reports().batchGet(\n",
    "    body={\n",
    "        'reportRequests': [\n",
    "        {\n",
    "          'viewId': VIEW_ID,\n",
    "          'dateRanges': [{'startDate': '30daysAgo', 'endDate': 'today'}],\n",
    "          \"metrics\":\n",
    "      [\n",
    "        {\n",
    "          \"expression\": \"ga:goal1completions/ga:users\",\n",
    "          \"alias\": \"completions per user\"\n",
    "        }\n",
    "      ]\n",
    "    }\n",
    "  ]\n",
    "}\n",
    ").execute()"
   ]
  },
  {
   "cell_type": "markdown",
   "id": "61bf58ed",
   "metadata": {},
   "source": [
    "## Histograms"
   ]
  },
  {
   "cell_type": "code",
   "execution_count": 40,
   "id": "c1b4e11a",
   "metadata": {},
   "outputs": [],
   "source": [
    "response = service.reports().batchGet(\n",
    "    body={\n",
    "        'reportRequests': [\n",
    "        {\n",
    "          'viewId': VIEW_ID,\n",
    "          'dateRanges': [{'startDate': '30daysAgo', 'endDate': 'today'}],\n",
    "          \"metrics\": [{\"expression\": \"ga:sessions\"}],\n",
    "          \"dimensions\": [\n",
    "        {\n",
    "              \"name\": \"ga:sessionCount\",\n",
    "              \"histogramBuckets\": [\"1\",\"10\",\"100\",\"200\",\"400\"]\n",
    "        }\n",
    "      ],\n",
    "         \"orderBys\": [\n",
    "        {\n",
    "              \"fieldName\": \"ga:sessionCount\",\n",
    "              \"orderType\": \"HISTOGRAM_BUCKET\"\n",
    "        }\n",
    "      ]\n",
    "    }\n",
    "  ]\n",
    "}\n",
    ").execute()"
   ]
  },
  {
   "cell_type": "code",
   "execution_count": 42,
   "id": "2d3155e2",
   "metadata": {},
   "outputs": [],
   "source": [
    "#create two empty lists that will hold our dimentions and sessions data\n",
    "dim = []\n",
    "metric = []\n",
    "  \n",
    "#Extract Data\n",
    "for report in response.get('reports', []):\n",
    "  \n",
    "    columnHeader = report.get('columnHeader', {})\n",
    "    dimensionHeaders = columnHeader.get('dimensions', [])\n",
    "    metricHeaders = columnHeader.get('metricHeader', {}).get('metricHeaderEntries', [])\n",
    "    rows = report.get('data', {}).get('rows', [])\n",
    "  \n",
    "    for row in rows:\n",
    "  \n",
    "        dimensions = row.get('dimensions', [])\n",
    "        dateRangeValues = row.get('metrics', [])\n",
    "  \n",
    "        for header, dimension in zip(dimensionHeaders, dimensions):\n",
    "            dim.append(dimension)\n",
    "  \n",
    "        for i, values in enumerate(dateRangeValues):\n",
    "            for metricHeader, value in zip(metricHeaders, values.get('values')):\n",
    "                metric.append(int(value))"
   ]
  },
  {
   "cell_type": "code",
   "execution_count": null,
   "id": "fe3998a6",
   "metadata": {},
   "outputs": [],
   "source": [
    "df = pd.DataFrame() \n",
    "df[\"Sessions\"]= metric\n",
    "df[\"Range\"]= dim\n",
    "df= df[[\"Range\",\"Sessions\"]]\n",
    "\n",
    "print(df)"
   ]
  },
  {
   "cell_type": "code",
   "execution_count": null,
   "id": "f1a04cb0",
   "metadata": {},
   "outputs": [],
   "source": [
    "df.head()"
   ]
  },
  {
   "cell_type": "code",
   "execution_count": null,
   "id": "3912a70b",
   "metadata": {},
   "outputs": [],
   "source": []
  }
 ],
 "metadata": {
  "kernelspec": {
   "display_name": "Python 3 (ipykernel)",
   "language": "python",
   "name": "python3"
  },
  "language_info": {
   "codemirror_mode": {
    "name": "ipython",
    "version": 3
   },
   "file_extension": ".py",
   "mimetype": "text/x-python",
   "name": "python",
   "nbconvert_exporter": "python",
   "pygments_lexer": "ipython3",
   "version": "3.9.7"
  }
 },
 "nbformat": 4,
 "nbformat_minor": 5
}
